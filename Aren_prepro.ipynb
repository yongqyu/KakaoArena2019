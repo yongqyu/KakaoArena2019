{
 "cells": [
  {
   "cell_type": "code",
   "execution_count": 1,
   "metadata": {},
   "outputs": [],
   "source": [
    "import os\n",
    "import json\n",
    "import numpy as np\n",
    "from tqdm import tqdm_notebook\n",
    "\n",
    "magazine_path = '/data/private/Arena/datasets/magazine.json'\n",
    "metadata_path = '/data/private/Arena/datasets/metadata.json'\n",
    "users_path = '/data/private/Arena/datasets/users.json'\n",
    "predict_path = '/data/private/Arena/datasets/predict/'\n",
    "read_path = '/data/private/Arena/datasets/read/'"
   ]
  },
  {
   "cell_type": "code",
   "execution_count": 2,
   "metadata": {},
   "outputs": [],
   "source": [
    "#magazine -> keyword list\n",
    "magazine_list = []\n",
    "for line in open(magazine_path, 'r', encoding='utf-8'):\n",
    "    magazine_list.append(json.loads(line))\n",
    "metadata_list = []\n",
    "for line in open(metadata_path, 'r', encoding='utf-8'):\n",
    "    metadata_list.append(json.loads(line))\n",
    "users_list = []\n",
    "for line in open(users_path, 'r', encoding='utf-8'):\n",
    "    users_list.append(json.loads(line))"
   ]
  },
  {
   "cell_type": "code",
   "execution_count": 3,
   "metadata": {},
   "outputs": [
    {
     "data": {
      "text/plain": [
       "({'magazine_tag_list': ['브런치북', '육아일기', '대화법', '들려주고픈이야기'], 'id': '38842'},\n",
       " {'magazine_id': 8982,\n",
       "  'user_id': '@bookdb',\n",
       "  'title': '사진으로 옮기기에도 아까운, 리치필드 국립공원',\n",
       "  'keyword_list': ['여행', '호주', '국립공원'],\n",
       "  'display_url': 'https://brunch.co.kr/@bookdb/782',\n",
       "  'sub_title': '세상 어디에도 없는 호주 Top 10',\n",
       "  'reg_ts': 1474944427000,\n",
       "  'article_id': 782,\n",
       "  'id': '@bookdb_782'},\n",
       " {'keyword_list': [],\n",
       "  'following_list': ['@perytail', '@brunch'],\n",
       "  'id': '#901985d8bc4c481805c4a4f911814c4a'})"
      ]
     },
     "execution_count": 3,
     "metadata": {},
     "output_type": "execute_result"
    }
   ],
   "source": [
    "magazine_list[0], metadata_list[0], users_list[0]"
   ]
  },
  {
   "cell_type": "markdown",
   "metadata": {},
   "source": [
    "## keyword / reader / writer dict and list"
   ]
  },
  {
   "cell_type": "code",
   "execution_count": null,
   "metadata": {},
   "outputs": [],
   "source": [
    "keyword_list = ['unk', 'pad']\n",
    "for data in tqdm_notebook(magazine_list):\n",
    "    for keyword in data['magazine_tag_list']:\n",
    "        if keyword not in keyword_list:\n",
    "            keyword_list.append(keyword)\n",
    "for data in tqdm_notebook(metadata_list):\n",
    "    for keyword in data['keyword_list']:\n",
    "        if keyword not in keyword_list:\n",
    "            keyword_list.append(keyword)\n",
    "for data in tqdm_notebook(users_list):\n",
    "    for keyword in data['keyword_list']:\n",
    "        if keyword not in keyword_list:\n",
    "            keyword_list.append(keyword)\n",
    "            \n",
    "keyword_dict = {}\n",
    "for i, keyword in enumerate(keyword_list):\n",
    "    keyword_dict[keyword] = i\n",
    "    \n",
    "np.save('/data/private/Arena/prepro_results/keyword_dict.npy', keyword_dict)\n",
    "np.save('/data/private/Arena/prepro_results/keyword_list.npy', keyword_list)"
   ]
  },
  {
   "cell_type": "code",
   "execution_count": 60,
   "metadata": {
    "collapsed": true
   },
   "outputs": [
    {
     "data": {
      "application/vnd.jupyter.widget-view+json": {
       "model_id": "057201876ab24c718b87e67d5d2a4e80",
       "version_major": 2,
       "version_minor": 0
      },
      "text/plain": [
       "HBox(children=(IntProgress(value=0, max=310758), HTML(value='')))"
      ]
     },
     "metadata": {},
     "output_type": "display_data"
    },
    {
     "name": "stdout",
     "output_type": "stream",
     "text": [
      "\n"
     ]
    }
   ],
   "source": [
    "id2writer = ['unk']\n",
    "id2reader = ['unk']\n",
    "for data in tqdm_notebook(users_list):\n",
    "    id2reader.append(data['id'])\n",
    "    for writer in data['following_list']:\n",
    "        if writer not in id2writer:\n",
    "            id2writer.append(writer)\n",
    "\n",
    "reader2id = {}\n",
    "for i, reader in enumerate(id2reader):\n",
    "    reader2id[reader] = i\n",
    "    \n",
    "writer2id = {}\n",
    "for i, writer in enumerate(id2writer):\n",
    "    writer2id[writer] = i\n",
    "    \n",
    "np.save('/data/private/Arena/prepro_results/id2reader.npy', id2reader)\n",
    "np.save('/data/private/Arena/prepro_results/reader2id.npy', reader2id)\n",
    "np.save('/data/private/Arena/prepro_results/id2writer.npy', id2writer)\n",
    "np.save('/data/private/Arena/prepro_results/writer2id.npy', writer2id)"
   ]
  },
  {
   "cell_type": "code",
   "execution_count": 26,
   "metadata": {},
   "outputs": [
    {
     "data": {
      "application/vnd.jupyter.widget-view+json": {
       "model_id": "ab92dc97d9f04c058e4e648dcc21ae3b",
       "version_major": 2,
       "version_minor": 0
      },
      "text/plain": [
       "HBox(children=(IntProgress(value=0, max=27967), HTML(value='')))"
      ]
     },
     "metadata": {},
     "output_type": "display_data"
    },
    {
     "name": "stdout",
     "output_type": "stream",
     "text": [
      "\n"
     ]
    }
   ],
   "source": [
    "magazine2id = {'unk':0}\n",
    "id2magazine = ['unk']\n",
    "for data in tqdm_notebook(magazine_list):\n",
    "    id_ = int(data['id'])\n",
    "    \n",
    "    if id_ not in id2magazine:\n",
    "        magazine2id[id_] = len(id2magazine)\n",
    "        id2magazine.append(id_)\n",
    "        \n",
    "np.save('/data/private/Arena/prepro_results/id2magazine.npy', id2magazine)\n",
    "np.save('/data/private/Arena/prepro_results/magazine2id.npy', magazine2id)"
   ]
  },
  {
   "cell_type": "markdown",
   "metadata": {},
   "source": [
    "## reader / item 2 elements & item dict and list"
   ]
  },
  {
   "cell_type": "code",
   "execution_count": 129,
   "metadata": {},
   "outputs": [
    {
     "data": {
      "application/vnd.jupyter.widget-view+json": {
       "model_id": "6441fafcecbd4c98aa7c8ca007058d03",
       "version_major": 2,
       "version_minor": 0
      },
      "text/plain": [
       "HBox(children=(IntProgress(value=0, max=310758), HTML(value='')))"
      ]
     },
     "metadata": {},
     "output_type": "display_data"
    },
    {
     "name": "stdout",
     "output_type": "stream",
     "text": [
      "\n"
     ]
    }
   ],
   "source": [
    "reader2elem = {'unk':0}\n",
    "follow_list = []\n",
    "follow_maxlen = 12\n",
    "keyword_maxlen = 0\n",
    "for data in tqdm_notebook(users_list):\n",
    "    #follow_list.append(len(data['following_list']))\n",
    "    id_ = reader2id[data['id']]\n",
    "    follow = [writer2id['unk']] * (follow_maxlen-len(data['following_list'])) + \\\n",
    "             list(map(writer2id.get, data['following_list'][-follow_maxlen:]))\n",
    "    reader2elem[id_] = follow\n",
    "\n",
    "    #reader2elem[id_] = \n",
    "    #if keyword_maxlen < len(data['keyword_list']):\n",
    "    #    keyword_maxlen = len(data['keyword_list'])\n",
    "    #if data['keyword_list']:\n",
    "    #    keywords = [kw['keyword'].split(' ') for kw in data['keyword_list'] if kw['cnt'] > 10]\n",
    "    #    keywords = list(set([a for b in keywords for a in b]))\n",
    "    #    print(keywords)\n",
    "    #    if keyword_maxlen < len(keywords):\n",
    "    #        keyword_maxlen = len(keywords)\n",
    "\n",
    "np.save('/data/private/Arena/prepro_results/reader2elem.npy', reader2elem)"
   ]
  },
  {
   "cell_type": "code",
   "execution_count": 56,
   "metadata": {},
   "outputs": [
    {
     "data": {
      "application/vnd.jupyter.widget-view+json": {
       "model_id": "db666fd1344440c2b8a3f3fa6dfa2343",
       "version_major": 2,
       "version_minor": 0
      },
      "text/plain": [
       "HBox(children=(IntProgress(value=0, max=310758), HTML(value='')))"
      ]
     },
     "metadata": {},
     "output_type": "display_data"
    }
   ],
   "source": [
    "keywordlen_list = []\n",
    "for data in tqdm_notebook(users_list):\n",
    "    keywordlen_list.append(len(data['keyword_list']))"
   ]
  },
  {
   "cell_type": "code",
   "execution_count": 67,
   "metadata": {},
   "outputs": [
    {
     "data": {
      "text/plain": [
       "(0, 310758)"
      ]
     },
     "execution_count": 67,
     "metadata": {},
     "output_type": "execute_result"
    }
   ],
   "source": [
    "np.sort(keywordlen_list)[280000], len(keywordlen_list)"
   ]
  },
  {
   "cell_type": "code",
   "execution_count": 120,
   "metadata": {},
   "outputs": [
    {
     "name": "stdout",
     "output_type": "stream",
     "text": [
      "8.420954569150272\n",
      "11\n"
     ]
    }
   ],
   "source": [
    "print(np.mean(follow_list))\n",
    "print(sorted(follow_list)[int(len(follow_list)*0.85)])"
   ]
  },
  {
   "cell_type": "code",
   "execution_count": 29,
   "metadata": {},
   "outputs": [
    {
     "data": {
      "application/vnd.jupyter.widget-view+json": {
       "model_id": "cecfbb9ef9af445b81b7b3189b55b1b8",
       "version_major": 2,
       "version_minor": 0
      },
      "text/plain": [
       "HBox(children=(IntProgress(value=0, max=643104), HTML(value='')))"
      ]
     },
     "metadata": {},
     "output_type": "display_data"
    },
    {
     "name": "stdout",
     "output_type": "stream",
     "text": [
      "\n"
     ]
    }
   ],
   "source": [
    "keywd_maxlen = 5\n",
    "item2elem = {0:[0,0,0,0,0,0,0,0]}\n",
    "item_list = ['unk']\n",
    "item_dict = {'unk':0}\n",
    "\n",
    "for data in tqdm_notebook(metadata_list):\n",
    "    if item_dict.get(data['id']) == None:\n",
    "        item_dict[data['id']] = len(item_list)\n",
    "        item_list.append(data['id'])\n",
    "        \n",
    "    if data['keyword_list']:\n",
    "        keywd = [keyword_dict['pad']] * (keywd_maxlen-len(data['keyword_list'])) + \\\n",
    "                list(map(keyword_dict.get, data['keyword_list'][::-1]))\n",
    "    else:\n",
    "        keywd = [keyword_dict['unk']] * keywd_maxlen\n",
    "    writer = writer2id[data['user_id']]\n",
    "    reg_ts = int(data['reg_ts'])\n",
    "    if magazine2id.get(int(data['magazine_id'])) == None:\n",
    "        magazine2id[int(data['magazine_id'])] = len(id2magazine)\n",
    "        id2magazine.append(int(data['magazine_id']))\n",
    "    mag_id = magazine2id[int(data['magazine_id'])]\n",
    "    \n",
    "    item2elem[item_dict[data['id']]] = [writer] + keywd + [reg_ts, mag_id]\n",
    "        \n",
    "np.save('/data/private/Arena/prepro_results/item_dict.npy', item_dict)\n",
    "np.save('/data/private/Arena/prepro_results/item_list.npy', item_list)\n",
    "np.save('/data/private/Arena/prepro_results/item2elem.npy', item2elem)\n",
    "np.save('/data/private/Arena/prepro_results/id2magazine.npy', id2magazine)\n",
    "np.save('/data/private/Arena/prepro_results/magazine2id.npy', magazine2id)"
   ]
  },
  {
   "cell_type": "markdown",
   "metadata": {},
   "source": [
    "## Valid Tensor & Writer 2 items (X)"
   ]
  },
  {
   "cell_type": "code",
   "execution_count": 142,
   "metadata": {},
   "outputs": [
    {
     "data": {
      "application/vnd.jupyter.widget-view+json": {
       "model_id": "071c38df6d8e401fb57db998a2d83f2f",
       "version_major": 2,
       "version_minor": 0
      },
      "text/plain": [
       "HBox(children=(IntProgress(value=0, max=643104), HTML(value='')))"
      ]
     },
     "metadata": {},
     "output_type": "display_data"
    },
    {
     "name": "stdout",
     "output_type": "stream",
     "text": [
      "\n"
     ]
    }
   ],
   "source": [
    "import numpy as np\n",
    "from tqdm import tqdm_notebook\n",
    "import torch\n",
    "\n",
    "id2writer = np.load('/data/private/Arena/prepro_results/id2writer.npy')\n",
    "writer2id = np.load('/data/private/Arena/prepro_results/writer2id.npy', allow_pickle=True).item()\n",
    "keyword_dict = np.load('/data/private/Arena/prepro_results/keyword_dict.npy', allow_pickle=True).item()\n",
    "keyword_list = np.load('/data/private/Arena/prepro_results/keyword_list.npy')\n",
    "valid_writer_keywd = []\n",
    "\n",
    "\n",
    "for data in tqdm_notebook(metadata_list):\n",
    "    if data['keyword_list']:\n",
    "        keywd = [keyword_dict['pad']] * (keywd_maxlen-len(data['keyword_list'])) + \\\n",
    "                list(map(keyword_dict.get, data['keyword_list'][::-1]))\n",
    "    else:\n",
    "        keywd = [keyword_dict['unk']] * keywd_maxlen\n",
    "    writer = writer2id[data['user_id']]\n",
    "    reg_ts = int(data['reg_ts'])\n",
    "    meg_id = int(data['magazine_id'])\n",
    "    item_id = item_dict[data['id']]\n",
    "    \n",
    "    valid_writer_keywd.append([item_id, writer] + keywd + [reg_ts, meg_id])\n",
    "\n",
    "valid_writer_keywd = torch.from_numpy(np.array(valid_writer_keywd))\n",
    "torch.save(valid_writer_keywd, '/data/private/Arena/prepro_results/valid_writer_keywd.pkl')"
   ]
  },
  {
   "cell_type": "code",
   "execution_count": 27,
   "metadata": {},
   "outputs": [
    {
     "data": {
      "application/vnd.jupyter.widget-view+json": {
       "model_id": "bcbd8dbe1f984a83a17fbb0a49741fd2",
       "version_major": 2,
       "version_minor": 0
      },
      "text/plain": [
       "HBox(children=(IntProgress(value=0, max=643104), HTML(value='')))"
      ]
     },
     "metadata": {},
     "output_type": "display_data"
    },
    {
     "name": "stdout",
     "output_type": "stream",
     "text": [
      "\n"
     ]
    }
   ],
   "source": [
    "item_dict = np.load('/data/private/Arena/prepro_results/item_dict.npy', allow_pickle=True).item()\n",
    "item_list = np.load('/data/private/Arena/prepro_results/item_list.npy')\n",
    "\n",
    "writerid2items = {}\n",
    "for data in tqdm_notebook(metadata_list):\n",
    "    user_id = writer2id[data['user_id']]\n",
    "    id_ = item_dict[data['id']]\n",
    "    keyword = keyword_dict[data['keyword_list'][0] if data['keyword_list'] is True else '없음']\n",
    "    \n",
    "    if writerid2items.get(user_id) == None:\n",
    "        writerid2items[user_id] = [[id_, user_id, keyword]]\n",
    "    else:\n",
    "        writerid2items[user_id].append([id_, user_id, keyword])\n",
    "        \n",
    "np.save('/data/private/Arena/prepro_results/writerid2items.npy', writerid2items)\n"
   ]
  },
  {
   "cell_type": "markdown",
   "metadata": {},
   "source": [
    "## From 2019022 : Reader 2 Read item"
   ]
  },
  {
   "cell_type": "code",
   "execution_count": 81,
   "metadata": {},
   "outputs": [],
   "source": [
    "file_list = os.listdir(read_path)\n",
    "file_list.sort()"
   ]
  },
  {
   "cell_type": "code",
   "execution_count": 89,
   "metadata": {},
   "outputs": [
    {
     "data": {
      "text/plain": [
       "['2019022200_2019022201',\n",
       " '2019022201_2019022202',\n",
       " '2019022202_2019022203',\n",
       " '2019022203_2019022204',\n",
       " '2019022204_2019022205',\n",
       " '2019022205_2019022206',\n",
       " '2019022206_2019022207',\n",
       " '2019022207_2019022208',\n",
       " '2019022208_2019022209',\n",
       " '2019022209_2019022210',\n",
       " '2019022210_2019022211',\n",
       " '2019022211_2019022212',\n",
       " '2019022212_2019022213',\n",
       " '2019022213_2019022214',\n",
       " '2019022214_2019022215',\n",
       " '2019022215_2019022216',\n",
       " '2019022216_2019022217',\n",
       " '2019022217_2019022218',\n",
       " '2019022218_2019022219',\n",
       " '2019022219_2019022220',\n",
       " '2019022220_2019022221',\n",
       " '2019022221_2019022222',\n",
       " '2019022222_2019022223',\n",
       " '2019022223_2019022300',\n",
       " '2019022300_2019022301',\n",
       " '2019022301_2019022302',\n",
       " '2019022302_2019022303',\n",
       " '2019022303_2019022304',\n",
       " '2019022304_2019022305',\n",
       " '2019022305_2019022306',\n",
       " '2019022306_2019022307',\n",
       " '2019022307_2019022308',\n",
       " '2019022308_2019022309',\n",
       " '2019022309_2019022310',\n",
       " '2019022310_2019022311',\n",
       " '2019022311_2019022312',\n",
       " '2019022312_2019022313',\n",
       " '2019022313_2019022314',\n",
       " '2019022314_2019022315',\n",
       " '2019022315_2019022316',\n",
       " '2019022316_2019022317',\n",
       " '2019022317_2019022318',\n",
       " '2019022318_2019022319',\n",
       " '2019022319_2019022320',\n",
       " '2019022320_2019022321',\n",
       " '2019022321_2019022322',\n",
       " '2019022322_2019022323',\n",
       " '2019022323_2019022400',\n",
       " '2019022400_2019022401',\n",
       " '2019022401_2019022402',\n",
       " '2019022402_2019022403',\n",
       " '2019022403_2019022404',\n",
       " '2019022404_2019022405',\n",
       " '2019022405_2019022406',\n",
       " '2019022406_2019022407',\n",
       " '2019022407_2019022408',\n",
       " '2019022408_2019022409',\n",
       " '2019022409_2019022410',\n",
       " '2019022410_2019022411',\n",
       " '2019022411_2019022412',\n",
       " '2019022412_2019022413',\n",
       " '2019022413_2019022414',\n",
       " '2019022414_2019022415',\n",
       " '2019022415_2019022416',\n",
       " '2019022416_2019022417',\n",
       " '2019022417_2019022418',\n",
       " '2019022418_2019022419',\n",
       " '2019022419_2019022420',\n",
       " '2019022420_2019022421',\n",
       " '2019022421_2019022422',\n",
       " '2019022422_2019022423',\n",
       " '2019022423_2019022500',\n",
       " '2019022500_2019022501',\n",
       " '2019022501_2019022502',\n",
       " '2019022502_2019022503',\n",
       " '2019022503_2019022504',\n",
       " '2019022504_2019022505',\n",
       " '2019022505_2019022506',\n",
       " '2019022506_2019022507',\n",
       " '2019022507_2019022508',\n",
       " '2019022508_2019022509',\n",
       " '2019022509_2019022510',\n",
       " '2019022510_2019022511',\n",
       " '2019022511_2019022512',\n",
       " '2019022512_2019022513',\n",
       " '2019022513_2019022514',\n",
       " '2019022514_2019022515',\n",
       " '2019022515_2019022516',\n",
       " '2019022516_2019022517',\n",
       " '2019022517_2019022518',\n",
       " '2019022518_2019022519',\n",
       " '2019022519_2019022520',\n",
       " '2019022520_2019022521',\n",
       " '2019022521_2019022522',\n",
       " '2019022522_2019022523',\n",
       " '2019022523_2019022600',\n",
       " '2019022600_2019022601',\n",
       " '2019022601_2019022602',\n",
       " '2019022602_2019022603',\n",
       " '2019022603_2019022604',\n",
       " '2019022604_2019022605',\n",
       " '2019022605_2019022606',\n",
       " '2019022606_2019022607',\n",
       " '2019022607_2019022608',\n",
       " '2019022608_2019022609',\n",
       " '2019022609_2019022610',\n",
       " '2019022610_2019022611',\n",
       " '2019022611_2019022612',\n",
       " '2019022612_2019022613',\n",
       " '2019022613_2019022614',\n",
       " '2019022614_2019022615',\n",
       " '2019022615_2019022616',\n",
       " '2019022616_2019022617',\n",
       " '2019022617_2019022618',\n",
       " '2019022618_2019022619',\n",
       " '2019022619_2019022620',\n",
       " '2019022620_2019022621',\n",
       " '2019022621_2019022622',\n",
       " '2019022622_2019022623',\n",
       " '2019022623_2019022700',\n",
       " '2019022700_2019022701',\n",
       " '2019022701_2019022702',\n",
       " '2019022702_2019022703',\n",
       " '2019022703_2019022704',\n",
       " '2019022704_2019022705',\n",
       " '2019022705_2019022706',\n",
       " '2019022706_2019022707',\n",
       " '2019022707_2019022708',\n",
       " '2019022708_2019022709',\n",
       " '2019022709_2019022710',\n",
       " '2019022710_2019022711',\n",
       " '2019022711_2019022712',\n",
       " '2019022712_2019022713',\n",
       " '2019022713_2019022714',\n",
       " '2019022714_2019022715',\n",
       " '2019022715_2019022716',\n",
       " '2019022716_2019022717',\n",
       " '2019022717_2019022718',\n",
       " '2019022718_2019022719',\n",
       " '2019022719_2019022720',\n",
       " '2019022720_2019022721',\n",
       " '2019022721_2019022722',\n",
       " '2019022722_2019022723',\n",
       " '2019022723_2019022800',\n",
       " '2019022800_2019022801',\n",
       " '2019022801_2019022802',\n",
       " '2019022802_2019022803',\n",
       " '2019022803_2019022804',\n",
       " '2019022804_2019022805',\n",
       " '2019022805_2019022806',\n",
       " '2019022806_2019022807',\n",
       " '2019022807_2019022808',\n",
       " '2019022808_2019022809',\n",
       " '2019022809_2019022810',\n",
       " '2019022810_2019022811',\n",
       " '2019022811_2019022812',\n",
       " '2019022812_2019022813',\n",
       " '2019022813_2019022814',\n",
       " '2019022814_2019022815',\n",
       " '2019022815_2019022816',\n",
       " '2019022816_2019022817',\n",
       " '2019022817_2019022818',\n",
       " '2019022818_2019022819',\n",
       " '2019022819_2019022820',\n",
       " '2019022820_2019022821',\n",
       " '2019022821_2019022822',\n",
       " '2019022822_2019022823',\n",
       " '2019022823_2019030100']"
      ]
     },
     "execution_count": 89,
     "metadata": {},
     "output_type": "execute_result"
    }
   ],
   "source": [
    "file_list[3456:]"
   ]
  },
  {
   "cell_type": "code",
   "execution_count": 90,
   "metadata": {},
   "outputs": [
    {
     "data": {
      "application/vnd.jupyter.widget-view+json": {
       "model_id": "7d1a3ee958054c45b214ac14fdc8916d",
       "version_major": 2,
       "version_minor": 0
      },
      "text/plain": [
       "HBox(children=(IntProgress(value=0, max=168), HTML(value='')))"
      ]
     },
     "metadata": {},
     "output_type": "display_data"
    }
   ],
   "source": [
    "reader2item = {}\n",
    "#file_list = [x for x in os.listdir(read_path) if x.startswith('20190222')]\n",
    "\n",
    "for read_file in tqdm_notebook(file_list[3456:]):\n",
    "    try:\n",
    "        file = open(read_path+read_file, 'r')\n",
    "        data_ = file.readlines()\n",
    "    except:\n",
    "        print(read_file)\n",
    "        continue\n",
    "\n",
    "    for line in data_:\n",
    "        tokens = line.split(' ')\n",
    "        try:\n",
    "            reader = reader2id[tokens[0]]\n",
    "        except:\n",
    "            continue\n",
    "        items = [item_dict[x] if item_dict.get(x)!=None else item_dict['unk'] for x in tokens[1:-1]]\n",
    "        \n",
    "        if reader2item.get(reader) != None:\n",
    "            reader2item[reader] = reader2item[reader] + items\n",
    "        else:\n",
    "            reader2item[reader] = items\n",
    "            \n",
    "#np.save('/data/private/Arena/prepro_results/reader2item.npy', reader2item)"
   ]
  },
  {
   "cell_type": "code",
   "execution_count": 79,
   "metadata": {},
   "outputs": [
    {
     "data": {
      "text/plain": [
       "(115730, 310759)"
      ]
     },
     "execution_count": 79,
     "metadata": {},
     "output_type": "execute_result"
    }
   ],
   "source": [
    "len(reader2item), len(reader2id)"
   ]
  },
  {
   "cell_type": "code",
   "execution_count": 73,
   "metadata": {},
   "outputs": [],
   "source": [
    "userid2followid = {}\n",
    "for data in users_list:\n",
    "    id_ = reader2id[data['id']]\n",
    "    following_list = [writer2id[x] for x in data['following_list']]\n",
    "    userid2followid[id_] = following_list\n",
    "    \n",
    "np.save('/data/private/Arena/prepro_results/userid2followid.npy', userid2followid)"
   ]
  },
  {
   "cell_type": "code",
   "execution_count": 74,
   "metadata": {},
   "outputs": [
    {
     "data": {
      "application/vnd.jupyter.widget-view+json": {
       "model_id": "fec4840a92e54dfca3481cd8e73e9bf0",
       "version_major": 2,
       "version_minor": 0
      },
      "text/plain": [
       "HBox(children=(IntProgress(value=0, max=643104), HTML(value='')))"
      ]
     },
     "metadata": {},
     "output_type": "display_data"
    },
    {
     "name": "stdout",
     "output_type": "stream",
     "text": [
      "5\n"
     ]
    }
   ],
   "source": [
    "max_keylen = 0\n",
    "for data in tqdm_notebook(metadata_list):\n",
    "    keylen = len(data['keyword_list'])\n",
    "    if max_keylen < keylen:\n",
    "        max_keylen = keylen\n",
    "print(max_keylen)"
   ]
  },
  {
   "cell_type": "code",
   "execution_count": 50,
   "metadata": {},
   "outputs": [],
   "source": [
    "#reader2item = np.load('/data/private/Arena/prepro_results/reader2item.npy', allow_pickle=True).item()\n",
    "readlen_list = [len(v) for v in reader2item.values()]"
   ]
  },
  {
   "cell_type": "code",
   "execution_count": 51,
   "metadata": {},
   "outputs": [
    {
     "data": {
      "text/plain": [
       "6.0"
      ]
     },
     "execution_count": 51,
     "metadata": {},
     "output_type": "execute_result"
    }
   ],
   "source": [
    "np.median(readlen_list)"
   ]
  },
  {
   "cell_type": "markdown",
   "metadata": {},
   "source": [
    "# RNN Based\n",
    "Train Valid Test data (from 4 to 1 : window size = 5) and Mask "
   ]
  },
  {
   "cell_type": "code",
   "execution_count": 75,
   "metadata": {},
   "outputs": [],
   "source": [
    "rnn_train_data = []\n",
    "rnn_valid_data = []\n",
    "rnn_test_data = {}\n",
    "window_size = 5\n",
    "for reader, items in reader2item.items():\n",
    "    if len(items) < window_size:\n",
    "        items = [item_dict['unk']] * (window_size-len(items)) + items\n",
    "        \n",
    "    rnn_data = []\n",
    "    for i in range(len(items)-window_size+1):\n",
    "        rnn_data.append([reader]+ items[i:i+window_size])\n",
    "\n",
    "    if len(items) > window_size+4:\n",
    "        rnn_train_data += rnn_data[:int(len(rnn_data)*0.9)]\n",
    "        rnn_valid_data += rnn_data[int(len(rnn_data)*0.9):]\n",
    "    else:\n",
    "        rnn_train_data += rnn_data\n",
    "    rnn_test_data[reader] = rnn_data[-1]\n",
    "        \n",
    "np.save('/data/private/Arena/prepro_results/rnn_train_data.npy', rnn_train_data)\n",
    "np.save('/data/private/Arena/prepro_results/rnn_valid_data.npy', rnn_valid_data)\n",
    "#np.save('/data/private/Arena/prepro_results/rnn_test_data.npy', rnn_test_data)"
   ]
  },
  {
   "cell_type": "code",
   "execution_count": 76,
   "metadata": {},
   "outputs": [
    {
     "data": {
      "text/plain": [
       "(4045338, 467044)"
      ]
     },
     "execution_count": 76,
     "metadata": {},
     "output_type": "execute_result"
    }
   ],
   "source": [
    "len(rnn_train_data), len(rnn_valid_data)"
   ]
  },
  {
   "cell_type": "markdown",
   "metadata": {},
   "source": [
    "Test data as not a dictionary (REAL)"
   ]
  },
  {
   "cell_type": "code",
   "execution_count": 77,
   "metadata": {},
   "outputs": [
    {
     "name": "stdout",
     "output_type": "stream",
     "text": [
      "9\n"
     ]
    }
   ],
   "source": [
    "pred_dev_file = '/data/private/Arena/datasets/predict/dev.users'\n",
    "pred_dev_data = open(pred_dev_file, 'r').readlines()\n",
    "test_data = []\n",
    "a = 0\n",
    "for line in pred_dev_data:\n",
    "    if reader2id.get(line.strip()) != None:\n",
    "        reader = reader2id[line.strip()]\n",
    "        readed = rnn_test_data[reader]\n",
    "    else:\n",
    "        reader = reader2id['unk']\n",
    "        readed = [0,0,0,0,0,0]\n",
    "        a += 1\n",
    "    test_data.append(readed)\n",
    "\n",
    "np.save('/data/private/Arena/prepro_results/rnn_test_data.npy', np.array(test_data))\n",
    "print(a)"
   ]
  },
  {
   "cell_type": "code",
   "execution_count": null,
   "metadata": {},
   "outputs": [],
   "source": [
    "pred_dev_file = '/data/private/Arena/datasets/predict/dev.users'\n",
    "pred_dev_data = open(pred_dev_file, 'r').readlines()\n",
    "\n",
    "reader2id = np.load('/data/private/Arena/prepro_results/reader2id.npy', allow_pickle=True).item()\n",
    "reader2items = np.load('/data/private/Arena/prepro_results/reader2item.npy', allow_pickle=True).item()\n",
    "dev_mask = np.ones((len(pred_dev_data), 643105))\n",
    "for i, line in enumerate(pred_dev_data):\n",
    "    try:\n",
    "        readed = reader2items[reader2id[line.strip()]]\n",
    "    except:\n",
    "        continue\n",
    "    dev_mask[i,readed] = 0\n",
    "dev_mask[:,0] = 0\n",
    "    \n",
    "np.save('/data/private/Arena/prepro_results/dev_mask.npy', dev_mask)\n"
   ]
  },
  {
   "cell_type": "markdown",
   "metadata": {},
   "source": [
    "Train Valid Test data and Mask (from 4 to 2 : window size = 6)"
   ]
  },
  {
   "cell_type": "code",
   "execution_count": 53,
   "metadata": {},
   "outputs": [],
   "source": [
    "rnn_train_data = []\n",
    "rnn_valid_data = []\n",
    "rnn_test_data = {}\n",
    "window_size = 6\n",
    "\n",
    "for reader, items in reader2item.items():\n",
    "    if len(items) < window_size:\n",
    "        items = [item_dict['unk']] * (window_size-len(items)) + items\n",
    "        rnn_test_data[reader] = [reader] + items\n",
    "        continue\n",
    "        \n",
    "    rnn_data = []\n",
    "    for i in range(len(items)-window_size+1):\n",
    "        rnn_data.append([reader]+ items[i:i+window_size])\n",
    "\n",
    "    if len(items) > window_size+4:\n",
    "        rnn_train_data += rnn_data[:int(len(rnn_data)*0.9)]\n",
    "        rnn_valid_data += rnn_data[int(len(rnn_data)*0.9):]\n",
    "    else:\n",
    "        rnn_train_data += rnn_data\n",
    "        \n",
    "    rnn_test_data[reader] = rnn_data[-1]\n",
    "\n",
    "np.save('/data/private/Arena/prepro_results/rnn_train_data2.npy', rnn_train_data)\n",
    "np.save('/data/private/Arena/prepro_results/rnn_valid_data2.npy', rnn_valid_data)\n",
    "\n",
    "pred_dev_file = '/data/private/Arena/datasets/predict/dev.users'\n",
    "pred_dev_data = open(pred_dev_file, 'r').readlines()\n",
    "test_data = []\n",
    "a = 0\n",
    "for line in pred_dev_data:\n",
    "    if reader2id.get(line.strip()) != None:\n",
    "        reader = reader2id[line.strip()]\n",
    "        readed = rnn_test_data[reader]\n",
    "    else:\n",
    "        reader = reader2id['unk']\n",
    "        readed = [0] * (window_size+1)\n",
    "        a += 1\n",
    "    print(readed)\n",
    "    test_data.append(readed)\n",
    "\n",
    "np.save('/data/private/Arena/prepro_results/rnn_test_data2.npy', np.array(test_data))\n",
    "print(a)"
   ]
  },
  {
   "cell_type": "code",
   "execution_count": 55,
   "metadata": {},
   "outputs": [
    {
     "data": {
      "text/plain": [
       "(1095568, 129972)"
      ]
     },
     "execution_count": 55,
     "metadata": {},
     "output_type": "execute_result"
    }
   ],
   "source": [
    "len(rnn_train_data), len(rnn_valid_data)"
   ]
  }
 ],
 "metadata": {
  "kernelspec": {
   "display_name": "Python 3",
   "language": "python",
   "name": "python3"
  },
  "language_info": {
   "codemirror_mode": {
    "name": "ipython",
    "version": 3
   },
   "file_extension": ".py",
   "mimetype": "text/x-python",
   "name": "python",
   "nbconvert_exporter": "python",
   "pygments_lexer": "ipython3",
   "version": "3.6.8"
  }
 },
 "nbformat": 4,
 "nbformat_minor": 2
}
