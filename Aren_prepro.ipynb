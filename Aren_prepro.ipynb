{
 "cells": [
  {
   "cell_type": "code",
   "execution_count": 6,
   "metadata": {},
   "outputs": [],
   "source": [
    "import os\n",
    "import json\n",
    "import numpy as np\n",
    "from tqdm import tqdm_notebook\n",
    "\n",
    "magazine_path = '/data/private/Arena/datasets/magazine.json'\n",
    "metadata_path = '/data/private/Arena/datasets/metadata.json'\n",
    "users_path = '/data/private/Arena/datasets/users.json'\n",
    "predict_path = '/data/private/Arena/datasets/predict/'\n",
    "read_path = '/data/private/Arena/datasets/read/'"
   ]
  },
  {
   "cell_type": "code",
   "execution_count": 5,
   "metadata": {},
   "outputs": [],
   "source": [
    "#magazine -> keyword list\n",
    "magazine_list = []\n",
    "for line in open(magazine_path, 'r', encoding='utf-8'):\n",
    "    magazine_list.append(json.loads(line))\n",
    "metadata_list = []\n",
    "for line in open(metadata_path, 'r', encoding='utf-8'):\n",
    "    metadata_list.append(json.loads(line))\n",
    "users_list = []\n",
    "for line in open(users_path, 'r', encoding='utf-8'):\n",
    "    users_list.append(json.loads(line))"
   ]
  },
  {
   "cell_type": "code",
   "execution_count": 3,
   "metadata": {},
   "outputs": [
    {
     "data": {
      "text/plain": [
       "({'magazine_tag_list': ['브런치북', '육아일기', '대화법', '들려주고픈이야기'], 'id': '38842'},\n",
       " {'magazine_id': 8982,\n",
       "  'user_id': '@bookdb',\n",
       "  'title': '사진으로 옮기기에도 아까운, 리치필드 국립공원',\n",
       "  'keyword_list': ['여행', '호주', '국립공원'],\n",
       "  'display_url': 'https://brunch.co.kr/@bookdb/782',\n",
       "  'sub_title': '세상 어디에도 없는 호주 Top 10',\n",
       "  'reg_ts': 1474944427000,\n",
       "  'article_id': 782,\n",
       "  'id': '@bookdb_782'},\n",
       " {'keyword_list': [],\n",
       "  'following_list': ['@perytail', '@brunch'],\n",
       "  'id': '#901985d8bc4c481805c4a4f911814c4a'})"
      ]
     },
     "execution_count": 3,
     "metadata": {},
     "output_type": "execute_result"
    }
   ],
   "source": [
    "magazine_list[0], metadata_list[0], users_list[0]"
   ]
  },
  {
   "cell_type": "code",
   "execution_count": 2,
   "metadata": {},
   "outputs": [
    {
     "name": "stdout",
     "output_type": "stream",
     "text": [
      "#d6866a498157771069fdf15361cb012b\n",
      "\n"
     ]
    }
   ],
   "source": [
    "for line in open('./datasets/predict/dev.users', 'r', encoding='utf-8'):\n",
    "    print(line)\n",
    "    break"
   ]
  },
  {
   "cell_type": "code",
   "execution_count": null,
   "metadata": {},
   "outputs": [
    {
     "data": {
      "application/vnd.jupyter.widget-view+json": {
       "model_id": "1efb5318e5f34327a7b2db0ec57d0c97",
       "version_major": 2,
       "version_minor": 0
      },
      "text/plain": [
       "HBox(children=(IntProgress(value=0, max=27967), HTML(value='')))"
      ]
     },
     "metadata": {},
     "output_type": "display_data"
    },
    {
     "name": "stdout",
     "output_type": "stream",
     "text": [
      "\n"
     ]
    },
    {
     "data": {
      "application/vnd.jupyter.widget-view+json": {
       "model_id": "a02c0e0e1d304bd7939d37a2dabd2f18",
       "version_major": 2,
       "version_minor": 0
      },
      "text/plain": [
       "HBox(children=(IntProgress(value=0, max=643104), HTML(value='')))"
      ]
     },
     "metadata": {},
     "output_type": "display_data"
    },
    {
     "name": "stdout",
     "output_type": "stream",
     "text": [
      "\n"
     ]
    },
    {
     "data": {
      "application/vnd.jupyter.widget-view+json": {
       "model_id": "113da6216f194b378193f68dd5d9058f",
       "version_major": 2,
       "version_minor": 0
      },
      "text/plain": [
       "HBox(children=(IntProgress(value=0, max=310758), HTML(value='')))"
      ]
     },
     "metadata": {},
     "output_type": "display_data"
    }
   ],
   "source": [
    "keyword_list = []\n",
    "for data in tqdm_notebook(magazine_list):\n",
    "    for keyword in data['magazine_tag_list']:\n",
    "        if keyword not in keyword_list:\n",
    "            keyword_list.append(keyword)\n",
    "for data in tqdm_notebook(metadata_list):\n",
    "    for keyword in data['keyword_list']:\n",
    "        if keyword not in keyword_list:\n",
    "            keyword_list.append(keyword)\n",
    "for data in tqdm_notebook(users_list):\n",
    "    for keyword in data['keyword_list']:\n",
    "        if keyword not in keyword_list:\n",
    "            keyword_list.append(keyword)"
   ]
  },
  {
   "cell_type": "code",
   "execution_count": 59,
   "metadata": {},
   "outputs": [
    {
     "data": {
      "application/vnd.jupyter.widget-view+json": {
       "model_id": "436a951eb69f483e96407148558671d2",
       "version_major": 2,
       "version_minor": 0
      },
      "text/plain": [
       "HBox(children=(IntProgress(value=0, max=643104), HTML(value='')))"
      ]
     },
     "metadata": {},
     "output_type": "display_data"
    },
    {
     "name": "stdout",
     "output_type": "stream",
     "text": [
      "\n"
     ]
    }
   ],
   "source": [
    "item2keywd = {0:['없음']}\n",
    "item_list = ['unk']\n",
    "item_dict = {'unk':0}\n",
    "\n",
    "for data in tqdm_notebook(metadata_list):\n",
    "    if item_dict.get(data['id']) == None:\n",
    "        item_dict[data['id']] = len(item_list)\n",
    "        item_list.append(data['id'])\n",
    "    if data['keyword_list']:\n",
    "        item2keywd[data['id']] = data['keyword_list']\n",
    "    else:\n",
    "        item2keywd[data['id']] = ['없음']\n",
    "        \n",
    "np.save('/data/private/Arena/prepro_results/item_dict.npy', item_dict)\n",
    "np.save('/data/private/Arena/prepro_results/item_list.npy', item_list)\n",
    "np.save('/data/private/Arena/prepro_results/item2keywd.npy', item2keywd)"
   ]
  },
  {
   "cell_type": "code",
   "execution_count": null,
   "metadata": {},
   "outputs": [],
   "source": [
    "keyword_dict = {}\n",
    "for i, keyword in enumerate(keyword_list):\n",
    "    keyword_dict[keyword] = i\n",
    "    \n",
    "np.save('./prepro_results/keywrod_dict.npy', keyword_dict)\n",
    "np.save('./prepro_results/keywrod_list.npy', keyword_list)"
   ]
  },
  {
   "cell_type": "code",
   "execution_count": null,
   "metadata": {},
   "outputs": [],
   "source": [
    "len(keyword_list)"
   ]
  },
  {
   "cell_type": "code",
   "execution_count": 60,
   "metadata": {},
   "outputs": [
    {
     "data": {
      "application/vnd.jupyter.widget-view+json": {
       "model_id": "057201876ab24c718b87e67d5d2a4e80",
       "version_major": 2,
       "version_minor": 0
      },
      "text/plain": [
       "HBox(children=(IntProgress(value=0, max=310758), HTML(value='')))"
      ]
     },
     "metadata": {},
     "output_type": "display_data"
    },
    {
     "name": "stdout",
     "output_type": "stream",
     "text": [
      "\n"
     ]
    }
   ],
   "source": [
    "id2writer = ['unk']\n",
    "id2reader = ['unk']\n",
    "for data in tqdm_notebook(users_list):\n",
    "    id2reader.append(data['id'])\n",
    "    for writer in data['following_list']:\n",
    "        if writer not in id2writer:\n",
    "            id2writer.append(writer)"
   ]
  },
  {
   "cell_type": "code",
   "execution_count": 62,
   "metadata": {},
   "outputs": [],
   "source": [
    "reader2id = {}\n",
    "for i, reader in enumerate(id2reader):\n",
    "    reader2id[reader] = i\n",
    "    \n",
    "np.save('/data/private/Arena/prepro_results/id2reader.npy', id2reader)\n",
    "np.save('/data/private/Arena/prepro_results/reader2id.npy', reader2id)"
   ]
  },
  {
   "cell_type": "code",
   "execution_count": 16,
   "metadata": {},
   "outputs": [
    {
     "data": {
      "text/plain": [
       "16905"
      ]
     },
     "execution_count": 16,
     "metadata": {},
     "output_type": "execute_result"
    }
   ],
   "source": [
    "len(id2writer)"
   ]
  },
  {
   "cell_type": "code",
   "execution_count": 66,
   "metadata": {},
   "outputs": [
    {
     "data": {
      "application/vnd.jupyter.widget-view+json": {
       "model_id": "37f00c819e2c45beb593621b5e4e3e70",
       "version_major": 2,
       "version_minor": 0
      },
      "text/plain": [
       "HBox(children=(IntProgress(value=0, max=643104), HTML(value='')))"
      ]
     },
     "metadata": {},
     "output_type": "display_data"
    },
    {
     "name": "stdout",
     "output_type": "stream",
     "text": [
      "\n",
      "0\n"
     ]
    }
   ],
   "source": [
    "added_writer = 0\n",
    "for data in tqdm_notebook(metadata_list):\n",
    "    if data['user_id'] not in id2writer:\n",
    "        added_writer += 1\n",
    "        id2writer.append(data['user_id'])\n",
    "print(added_writer) # 0 없음\n",
    "\n",
    "writer2id = {}\n",
    "for i, writer in enumerate(id2writer):\n",
    "    writer2id[writer] = i\n",
    "    \n",
    "np.save('/data/private/Arena/prepro_results/id2writer.npy', id2writer)\n",
    "np.save('/data/private/Arena/prepro_results/writer2id.npy', writer2id)"
   ]
  },
  {
   "cell_type": "code",
   "execution_count": 10,
   "metadata": {},
   "outputs": [
    {
     "data": {
      "application/vnd.jupyter.widget-view+json": {
       "model_id": "4ffc5a6219bc47c5adf675e6898324d0",
       "version_major": 2,
       "version_minor": 0
      },
      "text/plain": [
       "HBox(children=(IntProgress(value=0, max=643104), HTML(value='')))"
      ]
     },
     "metadata": {},
     "output_type": "display_data"
    },
    {
     "name": "stdout",
     "output_type": "stream",
     "text": [
      "\n"
     ]
    }
   ],
   "source": [
    "import numpy as np\n",
    "from tqdm import tqdm_notebook\n",
    "import torch\n",
    "\n",
    "id2writer = np.load('/data/private/Arena/prepro_results/id2writer.npy')\n",
    "writer2id = np.load('/data/private/Arena/prepro_results/writer2id.npy', allow_pickle=True).item()\n",
    "keyword_dict = np.load('/data/private/Arena/prepro_results/keyword_dict.npy', allow_pickle=True).item()\n",
    "keyword_list = np.load('/data/private/Arena/prepro_results/keyword_list.npy')\n",
    "keyword_dict['없음'] = len(keyword_list)\n",
    "keyword_list = list(keyword_list)\n",
    "keyword_list.append('없음')\n",
    "valid_writer_keywd = []\n",
    "\n",
    "\n",
    "for data in tqdm_notebook(metadata_list):\n",
    "    user_id = writer2id[data['user_id']]\n",
    "    keyword = keyword_dict[data['keyword_list'][0]] if data['keyword_list'] is True else keyword_dict['없음']\n",
    "        \n",
    "    valid_writer_keywd.append([user_id, keyword])\n",
    "\n",
    "valid_writer_keywd = torch.from_numpy(np.array(valid_writer_keywd))\n",
    "torch.save(valid_writer_keywd, '/data/private/Arena/prepro_results/valid_writer_keywd.pkl')\n",
    "#np.save('/data/private/Arena/prepro_results/item_dict.npy', item_dict)"
   ]
  },
  {
   "cell_type": "code",
   "execution_count": 27,
   "metadata": {},
   "outputs": [
    {
     "data": {
      "application/vnd.jupyter.widget-view+json": {
       "model_id": "bcbd8dbe1f984a83a17fbb0a49741fd2",
       "version_major": 2,
       "version_minor": 0
      },
      "text/plain": [
       "HBox(children=(IntProgress(value=0, max=643104), HTML(value='')))"
      ]
     },
     "metadata": {},
     "output_type": "display_data"
    },
    {
     "name": "stdout",
     "output_type": "stream",
     "text": [
      "\n"
     ]
    }
   ],
   "source": [
    "item_dict = np.load('/data/private/Arena/prepro_results/item_dict.npy', allow_pickle=True).item()\n",
    "item_list = np.load('/data/private/Arena/prepro_results/item_list.npy')\n",
    "\n",
    "writerid2items = {}\n",
    "for data in tqdm_notebook(metadata_list):\n",
    "    user_id = writer2id[data['user_id']]\n",
    "    id_ = item_dict[data['id']]\n",
    "    keyword = keyword_dict[data['keyword_list'][0] if data['keyword_list'] is True else '없음']\n",
    "    \n",
    "    if writerid2items.get(user_id) == None:\n",
    "        writerid2items[user_id] = [[id_, user_id, keyword]]\n",
    "    else:\n",
    "        writerid2items[user_id].append([id_, user_id, keyword])\n",
    "        \n",
    "np.save('/data/private/Arena/prepro_results/writerid2items.npy', writerid2items)\n"
   ]
  },
  {
   "cell_type": "code",
   "execution_count": 38,
   "metadata": {},
   "outputs": [
    {
     "data": {
      "application/vnd.jupyter.widget-view+json": {
       "model_id": "5e317cd854424b6ca046e55a815f2010",
       "version_major": 2,
       "version_minor": 0
      },
      "text/plain": [
       "HBox(children=(IntProgress(value=0, max=3626), HTML(value='')))"
      ]
     },
     "metadata": {},
     "output_type": "display_data"
    },
    {
     "name": "stdout",
     "output_type": "stream",
     "text": [
      ".2019010120_2019010121.un~\n",
      ".2018111912_2018111913.swp\n",
      "\n"
     ]
    }
   ],
   "source": [
    "read_path = '/data/private/Arena/datasets/read/'\n",
    "item_freq = {}\n",
    "\n",
    "for read_file in tqdm_notebook(os.listdir(read_path)):\n",
    "    file = open(read_path+read_file, 'r')\n",
    "    try:\n",
    "        data_ = file.readlines()\n",
    "    except:\n",
    "        print(read_file)\n",
    "    for line in data_:\n",
    "        items = line.split(' ')[1:-1]\n",
    "        for item in items:\n",
    "            if item_freq.get(item) == None:\n",
    "                item_freq[item] = 1\n",
    "            else:\n",
    "                item_freq[item] += 1"
   ]
  },
  {
   "cell_type": "code",
   "execution_count": 45,
   "metadata": {
    "collapsed": true
   },
   "outputs": [
    {
     "data": {
      "text/plain": [
       "['@brunch_141',\n",
       " '@brunch_151',\n",
       " '@brunch_145',\n",
       " '@tenbody_1305',\n",
       " '@intlovesong_28',\n",
       " '@dailylife_207',\n",
       " '@hyehyodam_19',\n",
       " '@steven_179',\n",
       " '@brunch_140',\n",
       " '@sangheeshyn_66',\n",
       " '@brunch_142',\n",
       " '@deckey1985_51',\n",
       " '@conbus_43',\n",
       " '@sweetannie_145',\n",
       " '@dailylife_219',\n",
       " '@tenbody_1164',\n",
       " '@seochogirl_1',\n",
       " '@brunch_144',\n",
       " '@x-xv_19',\n",
       " '@honeytip_945',\n",
       " '@brunch_147',\n",
       " '@brunch_105',\n",
       " '@conbus_35',\n",
       " '@mightysense_8',\n",
       " '@honeytip_940',\n",
       " '@tenbody_1297',\n",
       " '@shanghaiesther_46',\n",
       " '@brunch_143',\n",
       " '@studiocroissant_43',\n",
       " '@chofang1_15',\n",
       " '@anti-essay_133',\n",
       " '@brunch_149',\n",
       " '@brunch_148',\n",
       " '@brunch_133',\n",
       " '@nareun_143',\n",
       " '@seochogirl_6',\n",
       " '@peregrino97_779',\n",
       " '@brunch_2',\n",
       " '@bzup_281',\n",
       " '@brunch_1',\n",
       " '@noey_130',\n",
       " '@zorbayoun_14',\n",
       " '@kam_60',\n",
       " '@anti-essay_124',\n",
       " '@mightysense_9',\n",
       " '@seochogirl_16',\n",
       " '@kam_33',\n",
       " '@dailylife_173',\n",
       " '@seochogirl_18',\n",
       " '@minimalmind88_26',\n",
       " '@wootaiyoung_85',\n",
       " '@jmg5308_163',\n",
       " '@seochogirl_7',\n",
       " '@seochogirl_8',\n",
       " '@seochogirl_17',\n",
       " '@seochogirl_3',\n",
       " '@wikitree_54',\n",
       " '@psychiatricnews_18',\n",
       " '@seochogirl_2',\n",
       " '@kecologist_68',\n",
       " '@nareun_134',\n",
       " '@brunch_111',\n",
       " '@nplusu_49',\n",
       " '@dancingsnail_21',\n",
       " '@dong02_1372',\n",
       " '@seochogirl_5',\n",
       " '@roysday_279',\n",
       " '@seochogirl_10',\n",
       " '@zheedong_3',\n",
       " '@mongul-mongul_76',\n",
       " '@brunch_152',\n",
       " '@jooyoon_51',\n",
       " '@seochogirl_9',\n",
       " '@taekangk_44',\n",
       " '@tenbody_1034',\n",
       " '@greenut90_85',\n",
       " '@boot0715_36',\n",
       " '@seochogirl_11',\n",
       " '@hjl0520_26',\n",
       " '@boot0715_39',\n",
       " '@kangsunseng_754',\n",
       " '@pyk8627_41',\n",
       " '@seochogirl_12',\n",
       " '@seochogirl_4',\n",
       " '@pureleyy_8',\n",
       " '@merryseo_73',\n",
       " '@dryjshin_245',\n",
       " '@bong_362',\n",
       " '@tenbody_1306',\n",
       " '@yeoneo_125',\n",
       " '@seochogirl_13',\n",
       " '@roysday_307',\n",
       " '@merryseo_53',\n",
       " '@maama_170',\n",
       " '@seochogirl_14',\n",
       " '@shoong810_216',\n",
       " '@cathongzo_90',\n",
       " '@tenbody_902',\n",
       " '@seouledu_84']"
      ]
     },
     "execution_count": 45,
     "metadata": {},
     "output_type": "execute_result"
    }
   ],
   "source": [
    "sorted_item_freq = sorted(item_freq.items(), key=lambda kv: kv[1])\n",
    "[x[0] for x in sorted_item_freq[:-100:-1]]"
   ]
  },
  {
   "cell_type": "code",
   "execution_count": 54,
   "metadata": {},
   "outputs": [],
   "source": [
    "userid2followid = {}\n",
    "for data in users_list:\n",
    "    id_ = reader2id[data['id']]\n",
    "    following_list = [writer2id[x] for x in data['following_list']]\n",
    "    userid2followid[id_] = following_list\n",
    "    \n",
    "np.save('/data/private/Arena/prepro_results/userid2followid.npy', userid2followid)"
   ]
  },
  {
   "cell_type": "code",
   "execution_count": 56,
   "metadata": {},
   "outputs": [
    {
     "ename": "KeyError",
     "evalue": "'@awesomedaytoeat_8'",
     "output_type": "error",
     "traceback": [
      "\u001b[0;31m---------------------------------------------------------------------------\u001b[0m",
      "\u001b[0;31mKeyError\u001b[0m                                  Traceback (most recent call last)",
      "\u001b[0;32m<ipython-input-56-fe2828e272a9>\u001b[0m in \u001b[0;36m<module>\u001b[0;34m\u001b[0m\n\u001b[0;32m----> 1\u001b[0;31m \u001b[0mitem_dict\u001b[0m\u001b[0;34m[\u001b[0m\u001b[0;34m'@awesomedaytoeat_8'\u001b[0m\u001b[0;34m]\u001b[0m\u001b[0;34m\u001b[0m\u001b[0;34m\u001b[0m\u001b[0m\n\u001b[0m",
      "\u001b[0;31mKeyError\u001b[0m: '@awesomedaytoeat_8'"
     ]
    }
   ],
   "source": [
    "item_dict['@awesomedaytoeat_8']"
   ]
  }
 ],
 "metadata": {
  "kernelspec": {
   "display_name": "Python 3",
   "language": "python",
   "name": "python3"
  },
  "language_info": {
   "codemirror_mode": {
    "name": "ipython",
    "version": 3
   },
   "file_extension": ".py",
   "mimetype": "text/x-python",
   "name": "python",
   "nbconvert_exporter": "python",
   "pygments_lexer": "ipython3",
   "version": "3.6.8"
  }
 },
 "nbformat": 4,
 "nbformat_minor": 2
}
